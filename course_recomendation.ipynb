{
  "nbformat": 4,
  "nbformat_minor": 0,
  "metadata": {
    "colab": {
      "provenance": [],
      "authorship_tag": "ABX9TyPknvQGVRT7IhrW8LM/ra0r",
      "include_colab_link": true
    },
    "kernelspec": {
      "name": "python3",
      "display_name": "Python 3"
    },
    "language_info": {
      "name": "python"
    }
  },
  "cells": [
    {
      "cell_type": "markdown",
      "metadata": {
        "id": "view-in-github",
        "colab_type": "text"
      },
      "source": [
        "<a href=\"https://colab.research.google.com/github/sugunayaparala/multiplatform-recomendation/blob/main/course_recomendation.ipynb\" target=\"_parent\"><img src=\"https://colab.research.google.com/assets/colab-badge.svg\" alt=\"Open In Colab\"/></a>"
      ]
    },
    {
      "cell_type": "code",
      "execution_count": 1,
      "metadata": {
        "colab": {
          "base_uri": "https://localhost:8080/"
        },
        "id": "AjTkPlkPr0NB",
        "outputId": "ae75fffc-aa44-4a55-ef35-5a133f119222"
      },
      "outputs": [
        {
          "output_type": "stream",
          "name": "stdout",
          "text": [
            "Requirement already satisfied: scikit-learn in /usr/local/lib/python3.11/dist-packages (1.6.1)\n",
            "Requirement already satisfied: numpy>=1.19.5 in /usr/local/lib/python3.11/dist-packages (from scikit-learn) (2.0.2)\n",
            "Requirement already satisfied: scipy>=1.6.0 in /usr/local/lib/python3.11/dist-packages (from scikit-learn) (1.14.1)\n",
            "Requirement already satisfied: joblib>=1.2.0 in /usr/local/lib/python3.11/dist-packages (from scikit-learn) (1.4.2)\n",
            "Requirement already satisfied: threadpoolctl>=3.1.0 in /usr/local/lib/python3.11/dist-packages (from scikit-learn) (3.6.0)\n"
          ]
        }
      ],
      "source": [
        "!pip install -U scikit-learn\n",
        "import numpy as np\n",
        "import pandas as pd\n",
        "from sklearn.feature_extraction.text import TfidfVectorizer\n",
        "from sklearn.metrics.pairwise import cosine_similarity"
      ]
    },
    {
      "cell_type": "code",
      "source": [
        "udemy_data = pd.read_csv(\"/content/Udemy.csv\")\n",
        "coursera_data = pd.read_csv(\"/content/Coursera.csv\")"
      ],
      "metadata": {
        "id": "r2txThcOr8z6"
      },
      "execution_count": 2,
      "outputs": []
    },
    {
      "cell_type": "code",
      "source": [
        "udemy_data.rename(columns={'title': 'title', 'level': 'difficulty'}, inplace=True)\n",
        "coursera_data.rename(columns={'course': 'title', 'level': 'difficulty'}, inplace=True)"
      ],
      "metadata": {
        "id": "8yHpplnQsABW"
      },
      "execution_count": 3,
      "outputs": []
    },
    {
      "cell_type": "code",
      "source": [
        "udemy_data['platform'] = 'udemy'\n",
        "coursera_data['platform'] = 'coursera'\n",
        "combined_data = pd.concat([udemy_data, coursera_data], ignore_index=True)"
      ],
      "metadata": {
        "id": "z8PkakAXsDZq"
      },
      "execution_count": 4,
      "outputs": []
    },
    {
      "cell_type": "code",
      "source": [
        "combined_data['title'] = combined_data['title'].fillna('')\n",
        "combined_data['description'] = combined_data['description'].fillna('')\n",
        "combined_data['course_text'] = combined_data['title'] + \" \" + combined_data['description'] + \" \" + combined_data['platform']"
      ],
      "metadata": {
        "id": "TDBTUD5NsK78"
      },
      "execution_count": 5,
      "outputs": []
    },
    {
      "cell_type": "code",
      "source": [
        "tfidf = TfidfVectorizer(stop_words='english', max_features=5000)\n",
        "tfidf_matrix = tfidf.fit_transform(combined_data['course_text'])"
      ],
      "metadata": {
        "id": "o_jqAgAasOSs"
      },
      "execution_count": 6,
      "outputs": []
    },
    {
      "cell_type": "code",
      "source": [
        "course_similarity = cosine_similarity(tfidf_matrix)"
      ],
      "metadata": {
        "id": "5Hz99QyjsP1X"
      },
      "execution_count": null,
      "outputs": []
    },
    {
      "cell_type": "code",
      "source": [
        "def recommend_similar_courses(course_title, top_n=5):\n",
        "    course_index = combined_data[combined_data['title'] == course_title].index\n",
        "    if len(course_index) == 0:\n",
        "        return f\"No course found with title: {course_title}\"\n",
        "\n",
        "    course_index = course_index[0]\n",
        "    similar_courses = list(enumerate(course_similarity[course_index]))\n",
        "    similar_courses = sorted(similar_courses, key=lambda x: x[1], reverse=True)\n",
        "    similar_courses = similar_courses[1:top_n + 1]\n",
        "\n",
        "    recommendations = [\n",
        "        (combined_data.iloc[x[0]]['title'], combined_data.iloc[x[0]]['platform'], x[1])\n",
        "        for x in similar_courses\n",
        "    ]\n",
        "    return recommendations"
      ],
      "metadata": {
        "id": "RAlRuwX9sZMQ"
      },
      "execution_count": null,
      "outputs": []
    },
    {
      "cell_type": "code",
      "source": [
        "def generate_sequential_recommendations(sequence_of_titles, top_n=5):\n",
        "    sequential_recommendations = []\n",
        "\n",
        "    for title in sequence_of_titles:\n",
        "        recommendations = recommend_similar_courses(title, top_n)\n",
        "        sequential_recommendations.append((title, recommendations))\n",
        "\n",
        "    return sequential_recommendations"
      ],
      "metadata": {
        "id": "g3kEVvijsdsG"
      },
      "execution_count": null,
      "outputs": []
    },
    {
      "cell_type": "code",
      "source": [
        "sequence_of_titles = [\"Python for Beginners\", \"Data Science Fundamentals\"]\n",
        "sequential_recommendations = generate_sequential_recommendations(sequence_of_titles)\n",
        "\n",
        "for course_title, recommendations in sequential_recommendations:\n",
        "    print(f\"Sequential Recommendations for '{course_title}':\")\n",
        "    for recommended_title, platform, similarity_score in recommendations:\n",
        "        print(f\"  - {recommended_title} (Platform: {platform}, Similarity Score: {similarity_score:.4f})\")\n",
        "    print()"
      ],
      "metadata": {
        "id": "9p2vbkBvsjSK"
      },
      "execution_count": null,
      "outputs": []
    }
  ]
}